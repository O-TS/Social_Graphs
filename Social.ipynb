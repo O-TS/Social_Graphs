{
 "cells": [
  {
   "cell_type": "markdown",
   "metadata": {},
   "source": [
    "# Introduction#\n",
    "\n",
    "<img src=\"http://nommax.com/hp_sgp/assets/images/potterverse.jpg\">"
   ]
  },
  {
   "cell_type": "markdown",
   "metadata": {},
   "source": [
    "## Motivation ##\n",
    "\n",
    "The initial motivation was to explore the Harry Potter universe, see how everyone is connected and try to find  way to predict the outcome of a 1 vs 1 duel beteen two random characters.\n",
    "\n",
    "To deferentiate this project from the other Potterverse projects seen in the presentations, this one will be based on the characters' purity of blood and how they were connected, as it was the main factor based on which the villain of the series (you know who), created his army of Death Eaters, killed and terrorised the wizzarding world.\n",
    "\n",
    "This happened mostly due to the fact that J.K. Rowling insparation for him who must not be named, was based on Adolf Hitler, Joseph Stalin and Benito Mussolini. The most notable similarity is that as Hitler had a vision of creating an Aryan \"flawless\" race, himself was far from flawless.  There are many obvious and hidden reasons for such obsessions, but as this is not a psychology project, it will be assumed that in Tom Riddle's case it was his hate towards his muggle father, whom he dispised and murdered along withthe rest of his mugle family.\n",
    "\n",
    "\n",
    "### Purity of blood ###\n",
    "\n",
    "**Why focus on it?**\n",
    "\n",
    "The idea of \"racial purity\" pervades the entire series. Echoing the views of Salazar Slytherin, one of the founders of Hogwarts, who insisted that only pure-blooded descendants should be admitted to the school, Voldemort became obsessed that non-magical ancestry somehow taints the bloodline. Despite the fact that his father was a Muggle, he still considered himself as the heir of Salazar Slytherin.\n"
   ]
  },
  {
   "cell_type": "code",
   "execution_count": 1,
   "metadata": {},
   "outputs": [],
   "source": [
    "import pandas as pd\n",
    "import numpy as np\n",
    "import matplotlib.pyplot as plt\n",
    "import networkx as nx\n",
    "%matplotlib inline"
   ]
  },
  {
   "cell_type": "code",
   "execution_count": 2,
   "metadata": {
    "scrolled": true
   },
   "outputs": [
    {
     "data": {
      "text/html": [
       "<div>\n",
       "<style scoped>\n",
       "    .dataframe tbody tr th:only-of-type {\n",
       "        vertical-align: middle;\n",
       "    }\n",
       "\n",
       "    .dataframe tbody tr th {\n",
       "        vertical-align: top;\n",
       "    }\n",
       "\n",
       "    .dataframe thead th {\n",
       "        text-align: right;\n",
       "    }\n",
       "</style>\n",
       "<table border=\"1\" class=\"dataframe\">\n",
       "  <thead>\n",
       "    <tr style=\"text-align: right;\">\n",
       "      <th></th>\n",
       "      <th>Last_name</th>\n",
       "      <th>First_name</th>\n",
       "      <th>Family_affiliation</th>\n",
       "      <th>Hogwarts_house</th>\n",
       "      <th>Pure_blood</th>\n",
       "      <th>Member_of</th>\n",
       "      <th>Occupation_records</th>\n",
       "      <th>General_info</th>\n",
       "    </tr>\n",
       "  </thead>\n",
       "  <tbody>\n",
       "    <tr>\n",
       "      <th>0</th>\n",
       "      <td>Abbott</td>\n",
       "      <td>Hannah</td>\n",
       "      <td>NaN</td>\n",
       "      <td>Hufflepuff</td>\n",
       "      <td>1.0</td>\n",
       "      <td>Dumbledore's Army</td>\n",
       "      <td>Student</td>\n",
       "      <td>Hufflepuff student in Harry Potter's year. Pre...</td>\n",
       "    </tr>\n",
       "    <tr>\n",
       "      <th>1</th>\n",
       "      <td>Avery</td>\n",
       "      <td>I</td>\n",
       "      <td>Avary family</td>\n",
       "      <td>Slytherin</td>\n",
       "      <td>1.0</td>\n",
       "      <td>Slug club</td>\n",
       "      <td>NaN</td>\n",
       "      <td>Member of Tom Riddle's gang when they attended...</td>\n",
       "    </tr>\n",
       "    <tr>\n",
       "      <th>2</th>\n",
       "      <td>Avery</td>\n",
       "      <td>II</td>\n",
       "      <td>Avary family</td>\n",
       "      <td>Slytherin</td>\n",
       "      <td>1.0</td>\n",
       "      <td>Death Eater</td>\n",
       "      <td>NaN</td>\n",
       "      <td>School friend of Severus Snape. After graduati...</td>\n",
       "    </tr>\n",
       "    <tr>\n",
       "      <th>3</th>\n",
       "      <td>Bagman</td>\n",
       "      <td>Ludo</td>\n",
       "      <td>NaN</td>\n",
       "      <td>NaN</td>\n",
       "      <td>NaN</td>\n",
       "      <td>NaN</td>\n",
       "      <td>Ministry of magic</td>\n",
       "      <td>Head of the Department of Magical Games and Sp...</td>\n",
       "    </tr>\n",
       "    <tr>\n",
       "      <th>4</th>\n",
       "      <td>Bagshot</td>\n",
       "      <td>Bathilda</td>\n",
       "      <td>NaN</td>\n",
       "      <td>NaN</td>\n",
       "      <td>NaN</td>\n",
       "      <td>NaN</td>\n",
       "      <td>NaN</td>\n",
       "      <td>Author of A History of Magic, and the great au...</td>\n",
       "    </tr>\n",
       "  </tbody>\n",
       "</table>\n",
       "</div>"
      ],
      "text/plain": [
       "  Last_name First_name Family_affiliation Hogwarts_house  Pure_blood  \\\n",
       "0    Abbott     Hannah                NaN     Hufflepuff         1.0   \n",
       "1     Avery          I       Avary family      Slytherin         1.0   \n",
       "2     Avery         II       Avary family      Slytherin         1.0   \n",
       "3    Bagman       Ludo                NaN            NaN         NaN   \n",
       "4   Bagshot   Bathilda                NaN            NaN         NaN   \n",
       "\n",
       "           Member_of Occupation_records  \\\n",
       "0  Dumbledore's Army            Student   \n",
       "1          Slug club                NaN   \n",
       "2        Death Eater                NaN   \n",
       "3                NaN  Ministry of magic   \n",
       "4                NaN                NaN   \n",
       "\n",
       "                                        General_info  \n",
       "0  Hufflepuff student in Harry Potter's year. Pre...  \n",
       "1  Member of Tom Riddle's gang when they attended...  \n",
       "2  School friend of Severus Snape. After graduati...  \n",
       "3  Head of the Department of Magical Games and Sp...  \n",
       "4  Author of A History of Magic, and the great au...  "
      ]
     },
     "execution_count": 2,
     "metadata": {},
     "output_type": "execute_result"
    }
   ],
   "source": [
    "HP_Final = pd.read_excel (r'http://nommax.com/hp_sgp/files/HP_Final.xlsx')\n",
    "HP_Final.head()"
   ]
  },
  {
   "cell_type": "markdown",
   "metadata": {},
   "source": [
    "### Cleaning up unnecessary data"
   ]
  },
  {
   "cell_type": "code",
   "execution_count": 3,
   "metadata": {
    "scrolled": true
   },
   "outputs": [
    {
     "data": {
      "text/html": [
       "<div>\n",
       "<style scoped>\n",
       "    .dataframe tbody tr th:only-of-type {\n",
       "        vertical-align: middle;\n",
       "    }\n",
       "\n",
       "    .dataframe tbody tr th {\n",
       "        vertical-align: top;\n",
       "    }\n",
       "\n",
       "    .dataframe thead th {\n",
       "        text-align: right;\n",
       "    }\n",
       "</style>\n",
       "<table border=\"1\" class=\"dataframe\">\n",
       "  <thead>\n",
       "    <tr style=\"text-align: right;\">\n",
       "      <th></th>\n",
       "      <th>Last_name</th>\n",
       "      <th>First_name</th>\n",
       "      <th>Hogwarts_house</th>\n",
       "      <th>Pure_blood</th>\n",
       "    </tr>\n",
       "  </thead>\n",
       "  <tbody>\n",
       "    <tr>\n",
       "      <th>0</th>\n",
       "      <td>Abbott</td>\n",
       "      <td>Hannah</td>\n",
       "      <td>Hufflepuff</td>\n",
       "      <td>1.0</td>\n",
       "    </tr>\n",
       "    <tr>\n",
       "      <th>1</th>\n",
       "      <td>Avery</td>\n",
       "      <td>I</td>\n",
       "      <td>Slytherin</td>\n",
       "      <td>1.0</td>\n",
       "    </tr>\n",
       "    <tr>\n",
       "      <th>2</th>\n",
       "      <td>Avery</td>\n",
       "      <td>II</td>\n",
       "      <td>Slytherin</td>\n",
       "      <td>1.0</td>\n",
       "    </tr>\n",
       "    <tr>\n",
       "      <th>3</th>\n",
       "      <td>Bagman</td>\n",
       "      <td>Ludo</td>\n",
       "      <td>NaN</td>\n",
       "      <td>NaN</td>\n",
       "    </tr>\n",
       "    <tr>\n",
       "      <th>4</th>\n",
       "      <td>Bagshot</td>\n",
       "      <td>Bathilda</td>\n",
       "      <td>NaN</td>\n",
       "      <td>NaN</td>\n",
       "    </tr>\n",
       "  </tbody>\n",
       "</table>\n",
       "</div>"
      ],
      "text/plain": [
       "  Last_name First_name Hogwarts_house  Pure_blood\n",
       "0    Abbott     Hannah     Hufflepuff         1.0\n",
       "1     Avery          I      Slytherin         1.0\n",
       "2     Avery         II      Slytherin         1.0\n",
       "3    Bagman       Ludo            NaN         NaN\n",
       "4   Bagshot   Bathilda            NaN         NaN"
      ]
     },
     "execution_count": 3,
     "metadata": {},
     "output_type": "execute_result"
    }
   ],
   "source": [
    "HP_Final.drop(['Family_affiliation', 'Member_of', 'Occupation_records', 'General_info'], inplace=True, axis=1)\n",
    "HP_Final.head()"
   ]
  },
  {
   "cell_type": "markdown",
   "metadata": {},
   "source": [
    "## Basic Stats: ##\n",
    "\n",
    "The data was scraped from various http://fandom.com/ wikis and wikipedia. The HP_final.xls file that is being used was cleaned with imputations and manual work as some information were controversial between the wiki pages. Furthermore, for defining the \"Pure_blood\" feature, only characters of human origin were kept. This means that some other important characters such Dobby the house elf, or \"Fluffy\", etc. were removed from the dataset.\n",
    "\n",
    "The Pure_blood feature was turned into a boolean True/False value, instead of the original Pure-blood/Half-blood values that were scraped from the wikis. In that sence a the final version of the dataframe can be seen in the link right above.\n",
    "\n",
    "\n",
    "\n",
    "### \"Pure-bloods\" vs \"Mud-bloods\" Stats###"
   ]
  },
  {
   "cell_type": "code",
   "execution_count": 4,
   "metadata": {},
   "outputs": [
    {
     "name": "stdout",
     "output_type": "stream",
     "text": [
      "There are 110 known pure-bloods in the dataframe and 99 half-bloods. There are 35 of unknown blood purity.\n"
     ]
    }
   ],
   "source": [
    "pureBloods = 0\n",
    "mudBloods = 0\n",
    "unknownBlood = 0\n",
    "\n",
    "for i in HP_Final['Pure_blood']:\n",
    "    if (i == True):\n",
    "        pureBloods += 1\n",
    "    elif (i == False):\n",
    "        mudBloods += 1\n",
    "    else:\n",
    "        unknownBlood +=1\n",
    "        \n",
    "\n",
    "print ('There are',pureBloods, 'known pure-bloods in the dataframe and', mudBloods, 'half-bloods. There are', unknownBlood, 'of unknown blood purity.')\n"
   ]
  },
  {
   "cell_type": "markdown",
   "metadata": {},
   "source": [
    "### Separating all canonical Pure-bloods ###\n",
    "\n"
   ]
  },
  {
   "cell_type": "code",
   "execution_count": 5,
   "metadata": {
    "scrolled": false
   },
   "outputs": [
    {
     "data": {
      "text/html": [
       "<div>\n",
       "<style scoped>\n",
       "    .dataframe tbody tr th:only-of-type {\n",
       "        vertical-align: middle;\n",
       "    }\n",
       "\n",
       "    .dataframe tbody tr th {\n",
       "        vertical-align: top;\n",
       "    }\n",
       "\n",
       "    .dataframe thead tr th {\n",
       "        text-align: left;\n",
       "    }\n",
       "\n",
       "    .dataframe thead tr:last-of-type th {\n",
       "        text-align: right;\n",
       "    }\n",
       "</style>\n",
       "<table border=\"1\" class=\"dataframe\">\n",
       "  <thead>\n",
       "    <tr>\n",
       "      <th></th>\n",
       "      <th colspan=\"4\" halign=\"left\">Last_name</th>\n",
       "      <th colspan=\"4\" halign=\"left\">First_name</th>\n",
       "      <th colspan=\"4\" halign=\"left\">Hogwarts_house</th>\n",
       "    </tr>\n",
       "    <tr>\n",
       "      <th></th>\n",
       "      <th>count</th>\n",
       "      <th>unique</th>\n",
       "      <th>top</th>\n",
       "      <th>freq</th>\n",
       "      <th>count</th>\n",
       "      <th>unique</th>\n",
       "      <th>top</th>\n",
       "      <th>freq</th>\n",
       "      <th>count</th>\n",
       "      <th>unique</th>\n",
       "      <th>top</th>\n",
       "      <th>freq</th>\n",
       "    </tr>\n",
       "    <tr>\n",
       "      <th>Pure_blood</th>\n",
       "      <th></th>\n",
       "      <th></th>\n",
       "      <th></th>\n",
       "      <th></th>\n",
       "      <th></th>\n",
       "      <th></th>\n",
       "      <th></th>\n",
       "      <th></th>\n",
       "      <th></th>\n",
       "      <th></th>\n",
       "      <th></th>\n",
       "      <th></th>\n",
       "    </tr>\n",
       "  </thead>\n",
       "  <tbody>\n",
       "    <tr>\n",
       "      <th>0.0</th>\n",
       "      <td>99</td>\n",
       "      <td>60</td>\n",
       "      <td>Riddle</td>\n",
       "      <td>5</td>\n",
       "      <td>99</td>\n",
       "      <td>96</td>\n",
       "      <td>Justin</td>\n",
       "      <td>2</td>\n",
       "      <td>48</td>\n",
       "      <td>5</td>\n",
       "      <td>Gryffindor</td>\n",
       "      <td>22</td>\n",
       "    </tr>\n",
       "    <tr>\n",
       "      <th>1.0</th>\n",
       "      <td>110</td>\n",
       "      <td>58</td>\n",
       "      <td>Weasley</td>\n",
       "      <td>10</td>\n",
       "      <td>109</td>\n",
       "      <td>106</td>\n",
       "      <td>Euphemia</td>\n",
       "      <td>2</td>\n",
       "      <td>55</td>\n",
       "      <td>4</td>\n",
       "      <td>Slytherin</td>\n",
       "      <td>26</td>\n",
       "    </tr>\n",
       "  </tbody>\n",
       "</table>\n",
       "</div>"
      ],
      "text/plain": [
       "           Last_name                      First_name                        \\\n",
       "               count unique      top freq      count unique       top freq   \n",
       "Pure_blood                                                                   \n",
       "0.0               99     60   Riddle    5         99     96    Justin    2   \n",
       "1.0              110     58  Weasley   10        109    106  Euphemia    2   \n",
       "\n",
       "           Hogwarts_house                          \n",
       "                    count unique         top freq  \n",
       "Pure_blood                                         \n",
       "0.0                    48      5  Gryffindor   22  \n",
       "1.0                    55      4   Slytherin   26  "
      ]
     },
     "execution_count": 5,
     "metadata": {},
     "output_type": "execute_result"
    }
   ],
   "source": [
    "bloodType = HP_Final.groupby(\"Pure_blood\")\n",
    "bloodType.describe()"
   ]
  },
  {
   "cell_type": "code",
   "execution_count": 6,
   "metadata": {},
   "outputs": [],
   "source": [
    "HP_Pures = pd.read_csv (r'http://nommax.com/hp_sgp/files/HP_Purina.csv')"
   ]
  },
  {
   "cell_type": "markdown",
   "metadata": {},
   "source": [
    "Now that we found the pure bloods, let's see who they are."
   ]
  },
  {
   "cell_type": "code",
   "execution_count": 7,
   "metadata": {
    "scrolled": false
   },
   "outputs": [
    {
     "data": {
      "text/html": [
       "<div>\n",
       "<style scoped>\n",
       "    .dataframe tbody tr th:only-of-type {\n",
       "        vertical-align: middle;\n",
       "    }\n",
       "\n",
       "    .dataframe tbody tr th {\n",
       "        vertical-align: top;\n",
       "    }\n",
       "\n",
       "    .dataframe thead th {\n",
       "        text-align: right;\n",
       "    }\n",
       "</style>\n",
       "<table border=\"1\" class=\"dataframe\">\n",
       "  <thead>\n",
       "    <tr style=\"text-align: right;\">\n",
       "      <th></th>\n",
       "      <th>Full_Name</th>\n",
       "      <th>Hogwarts_house</th>\n",
       "      <th>Pure_blood</th>\n",
       "    </tr>\n",
       "  </thead>\n",
       "  <tbody>\n",
       "    <tr>\n",
       "      <th>0</th>\n",
       "      <td>Abbott Hannah</td>\n",
       "      <td>Hufflepuff</td>\n",
       "      <td>True</td>\n",
       "    </tr>\n",
       "    <tr>\n",
       "      <th>1</th>\n",
       "      <td>Avery I</td>\n",
       "      <td>Slytherin</td>\n",
       "      <td>True</td>\n",
       "    </tr>\n",
       "    <tr>\n",
       "      <th>2</th>\n",
       "      <td>Avery II</td>\n",
       "      <td>Slytherin</td>\n",
       "      <td>True</td>\n",
       "    </tr>\n",
       "    <tr>\n",
       "      <th>3</th>\n",
       "      <td>Barebone Credence</td>\n",
       "      <td>Unknown</td>\n",
       "      <td>True</td>\n",
       "    </tr>\n",
       "    <tr>\n",
       "      <th>4</th>\n",
       "      <td>Binns Cuthbert</td>\n",
       "      <td>Unknown</td>\n",
       "      <td>True</td>\n",
       "    </tr>\n",
       "    <tr>\n",
       "      <th>...</th>\n",
       "      <td>...</td>\n",
       "      <td>...</td>\n",
       "      <td>...</td>\n",
       "    </tr>\n",
       "    <tr>\n",
       "      <th>105</th>\n",
       "      <td>Weasley Ron</td>\n",
       "      <td>Gryffindor</td>\n",
       "      <td>True</td>\n",
       "    </tr>\n",
       "    <tr>\n",
       "      <th>106</th>\n",
       "      <td>Weasley Septimus</td>\n",
       "      <td>Gryffindor</td>\n",
       "      <td>True</td>\n",
       "    </tr>\n",
       "    <tr>\n",
       "      <th>107</th>\n",
       "      <td>Worple Eldred</td>\n",
       "      <td>Unknown</td>\n",
       "      <td>True</td>\n",
       "    </tr>\n",
       "    <tr>\n",
       "      <th>108</th>\n",
       "      <td>Yaxley Corban</td>\n",
       "      <td>Unknown</td>\n",
       "      <td>True</td>\n",
       "    </tr>\n",
       "    <tr>\n",
       "      <th>109</th>\n",
       "      <td>Zabini Blaise</td>\n",
       "      <td>Slytherin</td>\n",
       "      <td>True</td>\n",
       "    </tr>\n",
       "  </tbody>\n",
       "</table>\n",
       "<p>110 rows × 3 columns</p>\n",
       "</div>"
      ],
      "text/plain": [
       "             Full_Name Hogwarts_house  Pure_blood\n",
       "0        Abbott Hannah     Hufflepuff        True\n",
       "1              Avery I      Slytherin        True\n",
       "2             Avery II      Slytherin        True\n",
       "3    Barebone Credence        Unknown        True\n",
       "4       Binns Cuthbert        Unknown        True\n",
       "..                 ...            ...         ...\n",
       "105        Weasley Ron     Gryffindor        True\n",
       "106   Weasley Septimus     Gryffindor        True\n",
       "107      Worple Eldred        Unknown        True\n",
       "108      Yaxley Corban        Unknown        True\n",
       "109      Zabini Blaise      Slytherin        True\n",
       "\n",
       "[110 rows x 3 columns]"
      ]
     },
     "execution_count": 7,
     "metadata": {},
     "output_type": "execute_result"
    }
   ],
   "source": [
    "HP_Pures"
   ]
  },
  {
   "cell_type": "code",
   "execution_count": 8,
   "metadata": {},
   "outputs": [
    {
     "data": {
      "image/png": "[encoded data removed]",
      "text/plain": [
       "<Figure size 432x288 with 1 Axes>"
      ]
     },
     "metadata": {
      "needs_background": "light"
     },
     "output_type": "display_data"
    }
   ],
   "source": [
    "from wordcloud import WordCloud\n",
    "\n",
    "text=(\"Abbott, Avery, Avery, Barebone, Binns, Black, Black, Black, Black, Black, Black, Black, Black, Brown, Bulstrode, Carrow, Carrow, Carrow, Carrow, Crabbe, Crabbe, Crouch, Crouch, Doge, Dolohov, Edgecombe, Flint, Fudge, Gaunt, Gaunt, Gaunt, Goyle, Goyle, Greengrass, Greengrass, Gryffindor, Hufflepuff, Jenkins, Jones, Kama, Kama, Kama, Karkaroff, Krum, Kettlebum, Lestrange, Lestrange, Lestrange, Lestrange, Lestrange, Lestrange, Longbottom, Longbottom, Longbottom, Longbottom, Lovegood, Lovegood, Macnair, Malfoy, Malfoy, Malfoy, Malfoy, Malfoy, McMilan, Moody, Nott, Nott, Nott, Ogden, Parkinson, Perevel, Perevel, Perevel, Potter, Potter, Potter, Prewett, Ravenclaw, Ross, Rowle, Rowle, Runcom, Scamander, Scamander, Scrimgeur, Shacklebolt, Slughorn, Slytherin, Snape, Thicknesse, Tonks, Tremblay, Tremblay, Tremblay, Tremblay, Urquart, Vector, Weasley, Weasley, Weasley, Weasley, Weasley, Weasley, Weasley, Weasley, Weasley, Weasley, Worple, Yaxley, Zabini\")\n",
    " \n",
    "# Creating the wordcloud object\n",
    "wordcloud = WordCloud(width=1024, height=768, margin=0).generate(text)\n",
    " \n",
    "# Display the generated image:\n",
    "plt.imshow(wordcloud, interpolation='bilinear')\n",
    "plt.title(str.upper(\"Pure-Blood Family Names\"), fontweight = 'bold')\n",
    "plt.axis(\"off\")\n",
    "plt.margins(x=0, y=0)\n",
    "plt.show()"
   ]
  },
  {
   "cell_type": "markdown",
   "metadata": {},
   "source": [
    "### Some interesting facts: ###\n",
    "- The most frequent Last name among known Pure-bloods is **Weasley**. But, they too are a just a brunch of the Black family.\n",
    "- When it comes to Hogwarts students there are more Half-bloods than Pure-bloods, Salazar Slythering bones must be shaking in anger...\n",
    "- Most Death Eaters are Pure-bloods and most Pure-bloods were in Slytherin house. Thus, it's safe to say that most Death Eaters were in Slytherin house when in Hogwarts."
   ]
  },
  {
   "cell_type": "code",
   "execution_count": null,
   "metadata": {},
   "outputs": [],
   "source": []
  },
  {
   "cell_type": "markdown",
   "metadata": {},
   "source": [
    "## Graphs and analysis ##\n",
    "\n",
    "The goal of the following network is to figure out how pure blood families are connected."
   ]
  },
  {
   "cell_type": "code",
   "execution_count": 53,
   "metadata": {},
   "outputs": [],
   "source": [
    "G = nx.Graph()"
   ]
  },
  {
   "cell_type": "code",
   "execution_count": 10,
   "metadata": {},
   "outputs": [
    {
     "data": {
      "text/plain": [
       "('Abbott Hannah',\n",
       " 'Avery I',\n",
       " 'Avery II',\n",
       " 'Barebone Credence',\n",
       " 'Binns Cuthbert',\n",
       " 'Black Arcturus',\n",
       " 'Black Cedrella',\n",
       " 'Black Irma',\n",
       " 'Black Phineas Nigellus',\n",
       " 'Black Pollux',\n",
       " 'Black Regulus',\n",
       " 'Black Sirius',\n",
       " 'Black Walburga',\n",
       " 'Brown Lavender',\n",
       " 'Bulstrode Millicent',\n",
       " 'Carrow Alecto',\n",
       " 'Carrow Amycus',\n",
       " 'Carrow Flora',\n",
       " 'Carrow Hestia',\n",
       " 'Crabbe Mr.',\n",
       " 'Crabbe Vincent',\n",
       " 'Crouch Bartemius Sr.',\n",
       " 'Crouch Bartemius Jr.',\n",
       " 'Doge Elphias',\n",
       " 'Dolohov Antonin',\n",
       " 'Edgecombe Marietta',\n",
       " 'Flint Marcus',\n",
       " 'Fudge Cornelius',\n",
       " 'Gaunt Marvolo',\n",
       " 'Gaunt Merope',\n",
       " 'Gaunt Morfin',\n",
       " 'Goyle Mr.',\n",
       " 'Goyle Gregory',\n",
       " 'Greengrass Astoria',\n",
       " 'Greengrass Daphne',\n",
       " 'Gryffindor Godric',\n",
       " 'Hufflepuff Helga',\n",
       " 'Jenkins Emily',\n",
       " 'Jones Hestia',\n",
       " 'Kama Laurena',\n",
       " 'Kama Mustafa',\n",
       " 'Kama Yusuf',\n",
       " 'Karkaroff Igor',\n",
       " 'Krum Viktor',\n",
       " 'Kettlebum Silvanus',\n",
       " 'Lestrange ',\n",
       " 'Lestrange Bellatrix',\n",
       " 'Lestrange Clarisse',\n",
       " 'Lestrange Leta',\n",
       " 'Lestrange Rabastan',\n",
       " 'Lestrange Rodolfus',\n",
       " 'Longbottom Alice',\n",
       " 'Longbottom Agusta',\n",
       " 'Longbottom Frank',\n",
       " 'Longbottom Neville',\n",
       " 'Lovegood Luna',\n",
       " 'Lovegood Xenophilius',\n",
       " 'Macnair Walden',\n",
       " 'Malfoy Abraxas',\n",
       " 'Malfoy Draco',\n",
       " 'Malfoy Lucius',\n",
       " 'Malfoy Narcissa',\n",
       " 'Malfoy Scorpius',\n",
       " 'McMilan Ernest',\n",
       " 'Moody Alastor (Mad-eye)',\n",
       " 'Nott Cantankerus',\n",
       " 'Nott Theodore',\n",
       " 'Nott Theodore Sr.',\n",
       " 'Ogden Bob',\n",
       " 'Parkinson Pansy',\n",
       " 'Perevel Antioch',\n",
       " 'Perevel Cadmus',\n",
       " 'Perevel Ignotus',\n",
       " 'Potter Euphemia',\n",
       " 'Potter Fleamont',\n",
       " 'Potter James',\n",
       " 'Prewett Ignatius',\n",
       " 'Ravenclaw Rowena',\n",
       " 'Ross Isobel',\n",
       " 'Rowle Euphemia',\n",
       " 'Rowle Thorfinn',\n",
       " 'Runcom Albert',\n",
       " 'Scamander Newt',\n",
       " 'Scamander Theseus',\n",
       " 'Scrimgeur Rufus',\n",
       " 'Shacklebolt Kingsley',\n",
       " 'Slughorn Horace',\n",
       " 'Slytherin Salazar',\n",
       " 'Snape Eileen',\n",
       " 'Thicknesse Pius',\n",
       " 'Tonks Andromeda',\n",
       " 'Tremblay Bernard',\n",
       " 'Tremblay Falco I',\n",
       " 'Tremblay Falco II',\n",
       " 'Tremblay Leonie',\n",
       " 'Urquart Elphinstone',\n",
       " 'Vector Septima',\n",
       " 'Weasley Arthur',\n",
       " 'Weasley Bill',\n",
       " 'Weasley Charlie',\n",
       " 'Weasley Fred',\n",
       " 'Weasley George',\n",
       " 'Weasley Ginny',\n",
       " 'Weasley Molly',\n",
       " 'Weasley Percy',\n",
       " 'Weasley Ron',\n",
       " 'Weasley Septimus',\n",
       " 'Worple Eldred',\n",
       " 'Yaxley Corban',\n",
       " 'Zabini Blaise')"
      ]
     },
     "execution_count": 10,
     "metadata": {},
     "output_type": "execute_result"
    }
   ],
   "source": [
    "# Adding the nodes\n",
    "\n",
    "PB_names = []\n",
    "\n",
    "for i in HP_Pures['Full_Name']:\n",
    "    PB_names.append(i)\n",
    "\n",
    "PB_nn = tuple(PB_names)\n",
    " \n",
    "for i in PB_nn:\n",
    "    G.add_node(i)\n",
    "\n",
    "PB_nn"
   ]
  },
  {
   "cell_type": "code",
   "execution_count": 11,
   "metadata": {
    "scrolled": true
   },
   "outputs": [
    {
     "name": "stdout",
     "output_type": "stream",
     "text": [
      "There are 110 unique \"Pure-blood\" nodes.\n"
     ]
    }
   ],
   "source": [
    "print('There are', G.number_of_nodes(), 'unique \"Pure-blood\" nodes.')"
   ]
  },
  {
   "cell_type": "code",
   "execution_count": 59,
   "metadata": {},
   "outputs": [],
   "source": [
    "List1 = HP_Pures['Full_Name']\n",
    "List2 = HP_Pures['Hogwarts_house']\n",
    "List3 = Purina\n",
    "\n",
    "G.add_nodes_from(List1)\n",
    "G.add_nodes_from(List2)\n",
    "edgeList = list(zip(List1, List2))\n",
    "for item in List3:\n",
    "    G.add_edges_from(edgeList, label = item)"
   ]
  },
  {
   "cell_type": "code",
   "execution_count": 63,
   "metadata": {},
   "outputs": [
    {
     "name": "stdout",
     "output_type": "stream",
     "text": [
      "Name: \n",
      "Type: Graph\n",
      "Number of nodes: 115\n",
      "Number of edges: 110\n",
      "Average degree:   1.9130\n"
     ]
    }
   ],
   "source": [
    "print (nx.info(G))"
   ]
  },
  {
   "cell_type": "code",
   "execution_count": 77,
   "metadata": {},
   "outputs": [
    {
     "data": {
      "image/png": "[encoded data removed]",
      "text/plain": [
       "<Figure size 432x288 with 1 Axes>"
      ]
     },
     "metadata": {},
     "output_type": "display_data"
    }
   ],
   "source": [
    "# color_map = []\n",
    "# for node in G:\n",
    "#     if node == 'Hufflepuff':\n",
    "#         color_map.append('yellow')\n",
    "#     elif node == 'Slytherin':\n",
    "#         color_map.append('green')\n",
    "#     elif node == 'Ravenclaw':\n",
    "#         color_map.append('blue')\n",
    "#     elif node == 'Gryffindor':\n",
    "#         color_map.append('green')\n",
    "        \n",
    "positions = nx.spring_layout(G)\n",
    "nx.draw(G, pos=nx.spring_layout(G), node_size = 50, with_labels=False)\n",
    "plt.title('Pure-Blood clusters in Hogwarts Houses')\n",
    "plt.show()"
   ]
  },
  {
   "cell_type": "markdown",
   "metadata": {},
   "source": [
    "In the above graph we can see 5 networks. The Pure-blooded wizzards in the 4 Hogwarts Houses and the Unknown ones (who are the majority)."
   ]
  },
  {
   "cell_type": "code",
   "execution_count": 78,
   "metadata": {},
   "outputs": [
    {
     "name": "stdout",
     "output_type": "stream",
     "text": [
      "Unknown       54\n",
      "Slytherin     27\n",
      "Gryffindor    19\n",
      "Hufflepuff     6\n",
      "Ravenclaw      4\n",
      "Name: Hogwarts_house, dtype: int64\n"
     ]
    }
   ],
   "source": [
    "count = HP_Pures['Hogwarts_house'].value_counts() \n",
    "print(count) "
   ]
  },
  {
   "cell_type": "markdown",
   "metadata": {},
   "source": [
    "## Result: \n",
    "\n",
    "Out of the 110 pure-bloods, we don't know which house the majority was sorted to, when in Hogwarts.\n",
    "As expected,from the ones we know by the author, Slytherin is the house with the most pure-bloods."
   ]
  },
  {
   "cell_type": "code",
   "execution_count": null,
   "metadata": {},
   "outputs": [],
   "source": [
    "\n"
   ]
  }
 ],
 "metadata": {
  "kernelspec": {
   "display_name": "Python 3",
   "language": "python",
   "name": "python3"
  },
  "language_info": {
   "codemirror_mode": {
    "name": "ipython",
    "version": 3
   },
   "file_extension": ".py",
   "mimetype": "text/x-python",
   "name": "python",
   "nbconvert_exporter": "python",
   "pygments_lexer": "ipython3",
   "version": "3.8.3"
  }
 },
 "nbformat": 4,
 "nbformat_minor": 4
}
